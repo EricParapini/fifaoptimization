{
 "cells": [
  {
   "cell_type": "markdown",
   "metadata": {},
   "source": [
    "# The Data Cleaning Notebook\n",
    "\n",
    "This notebook documents the cleaning process for the Fifa 2019 Data. It creates a new csv file in ./data/out/clean.csv"
   ]
  },
  {
   "cell_type": "markdown",
   "metadata": {
    "slideshow": {
     "slide_type": "slide"
    }
   },
   "source": [
    "## Import necessary libraries"
   ]
  },
  {
   "cell_type": "code",
   "execution_count": 1,
   "metadata": {
    "slideshow": {
     "slide_type": "subslide"
    }
   },
   "outputs": [],
   "source": [
    "import numpy as np\n",
    "import pandas as pd\n",
    "import matplotlib.pyplot as plt\n",
    "import seaborn as sns\n",
    "import datetime\n",
    "\n",
    "from collections import Counter as counter"
   ]
  },
  {
   "cell_type": "markdown",
   "metadata": {
    "slideshow": {
     "slide_type": "slide"
    }
   },
   "source": [
    "## Load Data to a data table"
   ]
  },
  {
   "cell_type": "code",
   "execution_count": 2,
   "metadata": {
    "slideshow": {
     "slide_type": "subslide"
    }
   },
   "outputs": [],
   "source": [
    "df_fifa = pd.read_csv(\"../data/data.csv\")"
   ]
  },
  {
   "cell_type": "markdown",
   "metadata": {},
   "source": [
    "# Manipulation"
   ]
  },
  {
   "cell_type": "markdown",
   "metadata": {},
   "source": [
    "## Convert the value and wage into proper currency"
   ]
  },
  {
   "cell_type": "code",
   "execution_count": 3,
   "metadata": {
    "slideshow": {
     "slide_type": "slide"
    }
   },
   "outputs": [],
   "source": [
    "def value_to_int(df_value):\n",
    "    try:\n",
    "        value = float(df_value[1:-1]) # This return 110.5 from €110.5M\n",
    "        suffix = df_value[-1:] # This return M or K\n",
    "        if suffix == 'M':\n",
    "            value = value * 1000000\n",
    "        elif suffix == 'K':\n",
    "            value = value * 1000\n",
    "    except:\n",
    "        value = 0\n",
    "    return value\n",
    "\n",
    "df_fifa['Value'] = df_fifa['Value'].apply(value_to_int)\n",
    "df_fifa['Wage'] = df_fifa['Wage'].apply(value_to_int)\n",
    "df_fifa['Release Clause'] = df_fifa['Release Clause'].apply(value_to_int)"
   ]
  },
  {
   "cell_type": "markdown",
   "metadata": {},
   "source": [
    "## Convert the height to CM"
   ]
  },
  {
   "cell_type": "code",
   "execution_count": 4,
   "metadata": {},
   "outputs": [],
   "source": [
    "# Inch = 2.54 CM\n",
    "# Foot = 2.54*12 = 30.48\n",
    "def convert_to_cm(df_value):\n",
    "    height = 0\n",
    "    try:\n",
    "        feet,inches = str(df_value).split(\"'\",)\n",
    "        feet = eval(feet)\n",
    "        inches = eval(inches)\n",
    "        height = 30.48*feet + 2.54*inches\n",
    "    except:\n",
    "        pass #do nothing\n",
    "    return int(height)\n",
    "\n",
    "df_fifa['Height'] = df_fifa['Height'].apply(convert_to_cm)"
   ]
  },
  {
   "cell_type": "markdown",
   "metadata": {},
   "source": [
    "## Clean weight data"
   ]
  },
  {
   "cell_type": "code",
   "execution_count": 5,
   "metadata": {},
   "outputs": [],
   "source": [
    "def remove_lbs(df_value):\n",
    "    try:\n",
    "        weight = int(df_value[0:-3])\n",
    "    except:\n",
    "        weight = 0\n",
    "    return weight\n",
    "\n",
    "df_fifa['Weight'] = df_fifa['Weight'].apply(remove_lbs)"
   ]
  },
  {
   "cell_type": "markdown",
   "metadata": {},
   "source": [
    "## Cycle through skill columns and add them up"
   ]
  },
  {
   "cell_type": "code",
   "execution_count": 6,
   "metadata": {},
   "outputs": [],
   "source": [
    "def evaluate_the_row(x):\n",
    "    try:\n",
    "        return eval(x)\n",
    "    except:\n",
    "        return 0\n",
    "\n",
    "# 26 Positions need addition\n",
    "for i in range(28,54):\n",
    "    df_fifa.iloc[:,i] = df_fifa.iloc[:,i].apply(evaluate_the_row)\n"
   ]
  },
  {
   "cell_type": "markdown",
   "metadata": {},
   "source": [
    "## Remove Cells where key items are 0"
   ]
  },
  {
   "cell_type": "code",
   "execution_count": 7,
   "metadata": {},
   "outputs": [],
   "source": [
    "df_fifa = df_fifa[df_fifa.Value != 0]\n",
    "df_fifa = df_fifa[df_fifa.Overall != 0]\n",
    "df_fifa = df_fifa[df_fifa.Height != 0]\n",
    "df_fifa = df_fifa[df_fifa.Weight != 0]"
   ]
  },
  {
   "cell_type": "markdown",
   "metadata": {},
   "source": [
    "## Add new column: Create a variable with a classified position"
   ]
  },
  {
   "cell_type": "code",
   "execution_count": 8,
   "metadata": {},
   "outputs": [],
   "source": [
    "def classify_position(df_value):\n",
    "    if(df_value == 'GK'):\n",
    "        return 1\n",
    "    elif(df_value in ['RCB', 'CB', 'LCB', 'LB', 'RB', 'RWB', 'LWB']):\n",
    "        return 2\n",
    "    elif(df_value in ['RCM', 'LCM', 'LDM', 'CDM', 'CAM', 'RM', 'LAM', 'LM', 'RDM', 'CM', 'RAM']):\n",
    "        return 3\n",
    "    elif(df_value in ['RF', 'LF', 'ST', 'LW', 'RS', 'LS', 'RW', 'CF']):\n",
    "        return 4\n",
    "    return 0\n",
    "\n",
    "df_fifa['PositionCode'] = df_fifa['Position'].apply(classify_position)"
   ]
  },
  {
   "cell_type": "markdown",
   "metadata": {},
   "source": [
    "## Create Binary Variables for new Position"
   ]
  },
  {
   "cell_type": "code",
   "execution_count": 9,
   "metadata": {},
   "outputs": [],
   "source": [
    "def goalkeeper_position(df_value):\n",
    "    if (df_value == 1):\n",
    "        return 1\n",
    "    return 0\n",
    "df_fifa['Is_GK'] = df_fifa['PositionCode'].apply(goalkeeper_position)\n",
    "\n",
    "def defense_position(df_value):\n",
    "    if (df_value == 2):\n",
    "        return 1\n",
    "    return 0\n",
    "df_fifa['Is_Defense'] = df_fifa['PositionCode'].apply(defense_position)\n",
    "\n",
    "def midfield_position(df_value):\n",
    "    if (df_value == 3):\n",
    "        return 1\n",
    "    return 0\n",
    "df_fifa['Is_Midfield'] = df_fifa['PositionCode'].apply(midfield_position)\n",
    "\n",
    "def offense_position(df_value):\n",
    "    if (df_value == 4):\n",
    "        return 1\n",
    "    return 0\n",
    "df_fifa['Is_Offense'] = df_fifa['PositionCode'].apply(offense_position)"
   ]
  },
  {
   "cell_type": "markdown",
   "metadata": {},
   "source": [
    "## Create Binary Variables for From England"
   ]
  },
  {
   "cell_type": "code",
   "execution_count": 10,
   "metadata": {},
   "outputs": [],
   "source": [
    "def from_england(df_value):\n",
    "    if (df_value == \"England\"):\n",
    "        return 1\n",
    "    return 0\n",
    "df_fifa['From_England'] = df_fifa['Nationality'].apply(from_england)"
   ]
  },
  {
   "cell_type": "markdown",
   "metadata": {},
   "source": [
    "## Create Binary Variables for from Premier league team"
   ]
  },
  {
   "cell_type": "code",
   "execution_count": 16,
   "metadata": {},
   "outputs": [],
   "source": [
    "def in_premier(df_value):\n",
    "    if (df_value in['Manchester United','Manchester City','Chelsea','Tottenham Hotspur','Liverpool','Arsenal','Manchester United','Leicester City','Everton','West Ham United','Wolverhampton Wanderers','Crystal Palace','Fulham','Watford','Burnley','Southampton','Bournemouth','Brighton & Hove Albion','Newcastle United','Huddersfield Town','Cardiff City']):\n",
    "        return 1\n",
    "    return 0\n",
    "df_fifa['In_Premier'] = df_fifa['Club'].apply(in_premier)"
   ]
  },
  {
   "cell_type": "markdown",
   "metadata": {},
   "source": [
    "# Error Checking"
   ]
  },
  {
   "cell_type": "markdown",
   "metadata": {},
   "source": [
    "## Reviewing Value"
   ]
  },
  {
   "cell_type": "code",
   "execution_count": 11,
   "metadata": {},
   "outputs": [],
   "source": [
    "#df_fifa['Value'].describe().apply(lambda x: format(x, 'f'))"
   ]
  },
  {
   "cell_type": "markdown",
   "metadata": {},
   "source": [
    "## Reviewing Wage"
   ]
  },
  {
   "cell_type": "code",
   "execution_count": 12,
   "metadata": {},
   "outputs": [],
   "source": [
    "#df_fifa['Wage'].describe().apply(lambda x: format(x, 'f'))"
   ]
  },
  {
   "cell_type": "markdown",
   "metadata": {},
   "source": [
    "## Check Positions were added correctly"
   ]
  },
  {
   "cell_type": "code",
   "execution_count": 13,
   "metadata": {},
   "outputs": [],
   "source": [
    "#df_fifa.iloc[:,28:54]"
   ]
  },
  {
   "cell_type": "markdown",
   "metadata": {},
   "source": [
    "# Visualizations"
   ]
  },
  {
   "cell_type": "markdown",
   "metadata": {},
   "source": [
    "## Corelation Matrix"
   ]
  },
  {
   "cell_type": "code",
   "execution_count": 14,
   "metadata": {},
   "outputs": [],
   "source": [
    "#corrmat = df_fifa.corr()\n",
    "#f, ax = plt.subplots(figsize=(12,9))\n",
    "#sns.heatmap(corrmat, vmax=.8, square=True)"
   ]
  },
  {
   "cell_type": "markdown",
   "metadata": {},
   "source": [
    "# Write to CSV"
   ]
  },
  {
   "cell_type": "code",
   "execution_count": 30,
   "metadata": {},
   "outputs": [],
   "source": [
    "# Clean\n",
    "df_fifa.to_csv(r'../data/clean.csv', index=None, header=True)\n",
    "df_fifa.loc[df_fifa['In_Premier'] != 1].to_csv(r\"../data/butpremier.csv\", index=None, header=True)\n",
    "\n",
    "# Export the teams\n",
    "for name in ['Manchester United','Manchester City','Chelsea','Tottenham Hotspur','Liverpool','Arsenal','Manchester United','Leicester City','Everton','West Ham United','Wolverhampton Wanderers','Crystal Palace','Fulham','Watford','Burnley','Southampton','Bournemouth','Brighton & Hove Albion','Newcastle United','Huddersfield Town','Cardiff City']:\n",
    "    df_fifa.loc[df_fifa['Club'] == name].to_csv(r\"../data/Premier League Teams/\"+name+\".csv\", index=None, header=True)\n"
   ]
  }
 ],
 "metadata": {
  "kernelspec": {
   "display_name": "Python 3",
   "language": "python",
   "name": "python3"
  },
  "language_info": {
   "codemirror_mode": {
    "name": "ipython",
    "version": 3
   },
   "file_extension": ".py",
   "mimetype": "text/x-python",
   "name": "python",
   "nbconvert_exporter": "python",
   "pygments_lexer": "ipython3",
   "version": "3.7.2"
  }
 },
 "nbformat": 4,
 "nbformat_minor": 2
}
